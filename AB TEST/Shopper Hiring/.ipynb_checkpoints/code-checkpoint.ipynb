{
 "cells": [
  {
   "cell_type": "code",
   "execution_count": 1,
   "metadata": {},
   "outputs": [],
   "source": [
    "# 引入包\n",
    "import numpy as np\n",
    "import pandas as pd"
   ]
  },
  {
   "cell_type": "code",
   "execution_count": 2,
   "metadata": {},
   "outputs": [
    {
     "name": "stdout",
     "output_type": "stream",
     "text": [
      "   applicant_id            channel      group     city             event  \\\n",
      "0         10001  web-search-engine    control   Asgard  application_date   \n",
      "1         10002       social-media    control  Midgard  application_date   \n",
      "2         10003  web-search-engine  treatment  Midgard  application_date   \n",
      "3         10004       social-media  treatment   Asgard  application_date   \n",
      "4         10005       social-media  treatment  Midgard  application_date   \n",
      "\n",
      "  event_date  \n",
      "0  2018/10/1  \n",
      "1  2018/10/1  \n",
      "2  2018/10/1  \n",
      "3  2018/10/1  \n",
      "4  2018/10/1  \n"
     ]
    }
   ],
   "source": [
    "# 数据预处理\n",
    "df = pd.read_csv('application.csv')\n",
    "print(df.head())"
   ]
  },
  {
   "cell_type": "code",
   "execution_count": 3,
   "metadata": {},
   "outputs": [
    {
     "data": {
      "text/plain": [
       "applicant_id    False\n",
       "channel         False\n",
       "group           False\n",
       "city            False\n",
       "event           False\n",
       "event_date      False\n",
       "dtype: bool"
      ]
     },
     "execution_count": 3,
     "metadata": {},
     "output_type": "execute_result"
    }
   ],
   "source": [
    "# 检查数据的缺失值\n",
    "# df.info\n",
    "df.isnull().any()"
   ]
  },
  {
   "cell_type": "code",
   "execution_count": 4,
   "metadata": {},
   "outputs": [
    {
     "data": {
      "text/plain": [
       "False"
      ]
     },
     "execution_count": 4,
     "metadata": {},
     "output_type": "execute_result"
    }
   ],
   "source": [
    "# 检查数据是否有重复值\n",
    "df.duplicated().any()\n",
    "# 实际上数据是非常干净的，无需清洗"
   ]
  },
  {
   "cell_type": "code",
   "execution_count": 5,
   "metadata": {},
   "outputs": [
    {
     "name": "stdout",
     "output_type": "stream",
     "text": [
      "event        application_date background_check_completed_date  \\\n",
      "applicant_id                                                    \n",
      "10001               2018/10/1                             NaN   \n",
      "10002               2018/10/1                      2018/10/17   \n",
      "10003               2018/10/1                       2018/10/8   \n",
      "10004               2018/10/1                       2018/10/5   \n",
      "10005               2018/10/1                       2018/10/7   \n",
      "...                       ...                             ...   \n",
      "31694              2018/11/11                             NaN   \n",
      "31695              2018/11/11                             NaN   \n",
      "31696              2018/11/11                             NaN   \n",
      "31697              2018/11/11                             NaN   \n",
      "31698              2018/11/11                             NaN   \n",
      "\n",
      "event        background_check_initiated_date card_activation_date  \\\n",
      "applicant_id                                                        \n",
      "10001                                    NaN                  NaN   \n",
      "10002                             2018/10/12           2018/10/12   \n",
      "10003                              2018/10/1            2018/10/4   \n",
      "10004                              2018/10/1            2018/10/4   \n",
      "10005                              2018/10/1            2018/10/8   \n",
      "...                                      ...                  ...   \n",
      "31694                                    NaN                  NaN   \n",
      "31695                                    NaN                  NaN   \n",
      "31696                                    NaN                  NaN   \n",
      "31697                                    NaN                  NaN   \n",
      "31698                                    NaN                  NaN   \n",
      "\n",
      "event        card_mailed_date first_batch_completed_date  \\\n",
      "applicant_id                                               \n",
      "10001               2018/10/1                        NaN   \n",
      "10002               2018/10/1                 2018/10/20   \n",
      "10003               2018/10/2                        NaN   \n",
      "10004               2018/10/1                  2018/10/6   \n",
      "10005               2018/10/1                  2018/10/8   \n",
      "...                       ...                        ...   \n",
      "31694              2018/11/11                        NaN   \n",
      "31695                     NaN                        NaN   \n",
      "31696                     NaN                        NaN   \n",
      "31697              2018/11/11                        NaN   \n",
      "31698              2018/11/11                        NaN   \n",
      "\n",
      "event        orientation_completed_date  \n",
      "applicant_id                             \n",
      "10001                         2018/10/3  \n",
      "10002                               NaN  \n",
      "10003                         2018/10/5  \n",
      "10004                               NaN  \n",
      "10005                         2018/10/1  \n",
      "...                                 ...  \n",
      "31694                               NaN  \n",
      "31695                               NaN  \n",
      "31696                               NaN  \n",
      "31697                               NaN  \n",
      "31698                               NaN  \n",
      "\n",
      "[21698 rows x 7 columns]\n"
     ]
    }
   ],
   "source": [
    "# 数据分组\n",
    "df_pivot = df.pivot_table(index='applicant_id', columns='event', values='event_date', aggfunc='max')\n",
    "print(df_pivot)"
   ]
  },
  {
   "cell_type": "code",
   "execution_count": 6,
   "metadata": {},
   "outputs": [
    {
     "name": "stdout",
     "output_type": "stream",
     "text": [
      "       applicant_id application_date background_check_completed_date  \\\n",
      "0             10001        2018/10/1                             NaN   \n",
      "1             10002        2018/10/1                      2018/10/17   \n",
      "2             10003        2018/10/1                       2018/10/8   \n",
      "3             10004        2018/10/1                       2018/10/5   \n",
      "4             10005        2018/10/1                       2018/10/7   \n",
      "...             ...              ...                             ...   \n",
      "21693         31694       2018/11/11                             NaN   \n",
      "21694         31695       2018/11/11                             NaN   \n",
      "21695         31696       2018/11/11                             NaN   \n",
      "21696         31697       2018/11/11                             NaN   \n",
      "21697         31698       2018/11/11                             NaN   \n",
      "\n",
      "      background_check_initiated_date card_activation_date card_mailed_date  \\\n",
      "0                                 NaN                  NaN        2018/10/1   \n",
      "1                          2018/10/12           2018/10/12        2018/10/1   \n",
      "2                           2018/10/1            2018/10/4        2018/10/2   \n",
      "3                           2018/10/1            2018/10/4        2018/10/1   \n",
      "4                           2018/10/1            2018/10/8        2018/10/1   \n",
      "...                               ...                  ...              ...   \n",
      "21693                             NaN                  NaN       2018/11/11   \n",
      "21694                             NaN                  NaN              NaN   \n",
      "21695                             NaN                  NaN              NaN   \n",
      "21696                             NaN                  NaN       2018/11/11   \n",
      "21697                             NaN                  NaN       2018/11/11   \n",
      "\n",
      "      first_batch_completed_date orientation_completed_date      group  \\\n",
      "0                            NaN                  2018/10/3    control   \n",
      "1                     2018/10/20                        NaN    control   \n",
      "2                            NaN                  2018/10/5  treatment   \n",
      "3                      2018/10/6                        NaN  treatment   \n",
      "4                      2018/10/8                  2018/10/1  treatment   \n",
      "...                          ...                        ...        ...   \n",
      "21693                        NaN                        NaN    control   \n",
      "21694                        NaN                        NaN    control   \n",
      "21695                        NaN                        NaN    control   \n",
      "21696                        NaN                        NaN    control   \n",
      "21697                        NaN                        NaN    control   \n",
      "\n",
      "                      channel  \n",
      "0           web-search-engine  \n",
      "1                social-media  \n",
      "2           web-search-engine  \n",
      "3                social-media  \n",
      "4                social-media  \n",
      "...                       ...  \n",
      "21693         job-search-site  \n",
      "21694  shopper-referral-bonus  \n",
      "21695       web-search-engine  \n",
      "21696            social-media  \n",
      "21697  shopper-referral-bonus  \n",
      "\n",
      "[21698 rows x 10 columns]\n"
     ]
    },
    {
     "name": "stderr",
     "output_type": "stream",
     "text": [
      "<ipython-input-6-1460e4b4ef4c>:2: SettingWithCopyWarning: \n",
      "A value is trying to be set on a copy of a slice from a DataFrame\n",
      "\n",
      "See the caveats in the documentation: https://pandas.pydata.org/pandas-docs/stable/user_guide/indexing.html#returning-a-view-versus-a-copy\n",
      "  df_group.drop_duplicates(keep='first',inplace=True)\n",
      "<ipython-input-6-1460e4b4ef4c>:4: SettingWithCopyWarning: \n",
      "A value is trying to be set on a copy of a slice from a DataFrame\n",
      "\n",
      "See the caveats in the documentation: https://pandas.pydata.org/pandas-docs/stable/user_guide/indexing.html#returning-a-view-versus-a-copy\n",
      "  df_channel.drop_duplicates(keep='first',inplace=True)\n"
     ]
    }
   ],
   "source": [
    "df_group=df[['applicant_id','group']]\n",
    "df_group.drop_duplicates(keep='first',inplace=True)\n",
    "df_channel=df[['applicant_id','channel']]\n",
    "df_channel.drop_duplicates(keep='first',inplace=True)\n",
    "df_pivot = pd.merge(df_pivot,df_group,on='applicant_id')\n",
    "df_pivot = pd.merge(df_pivot,df_channel,on='applicant_id')\n",
    "print(df_pivot)"
   ]
  },
  {
   "cell_type": "code",
   "execution_count": 7,
   "metadata": {},
   "outputs": [
    {
     "name": "stdout",
     "output_type": "stream",
     "text": [
      "<class 'pandas.core.frame.DataFrame'>\n",
      "Int64Index: 15584 entries, 0 to 15583\n",
      "Data columns (total 11 columns):\n",
      " #   Column                           Non-Null Count  Dtype         \n",
      "---  ------                           --------------  -----         \n",
      " 0   applicant_id                     15584 non-null  int64         \n",
      " 1   application_date                 15584 non-null  datetime64[ns]\n",
      " 2   background_check_completed_date  13887 non-null  object        \n",
      " 3   background_check_initiated_date  14081 non-null  object        \n",
      " 4   card_activation_date             13758 non-null  object        \n",
      " 5   card_mailed_date                 15584 non-null  object        \n",
      " 6   first_batch_completed_date       4922 non-null   object        \n",
      " 7   orientation_completed_date       7214 non-null   object        \n",
      " 8   group                            15584 non-null  object        \n",
      " 9   channel                          15584 non-null  object        \n",
      " 10  convertion                       15584 non-null  int64         \n",
      "dtypes: datetime64[ns](1), int64(2), object(8)\n",
      "memory usage: 1.4+ MB\n",
      "None\n"
     ]
    }
   ],
   "source": [
    "# 先筛选出application_date在11月2日之前的applicant\n",
    "time_data=pd.to_datetime(df_pivot['application_date'],format='%Y/%m/%d')\n",
    "df_pivot['application_date'] = time_data\n",
    "e_date = pd.to_datetime('20181102', format='%Y%m%d')\n",
    "# print(e_date)\n",
    "df_clear = df_pivot[df_pivot['application_date'] < e_date]\n",
    "# print(df_clear)\n",
    "# 其实在这里只需要关心员工是否成功的完成第一单\n",
    "# 只需要统计出成功的完成第一单的人的申请id，去重，然后添加一个flag，指示是否转换成功就可以了\n",
    "converted_id = df_clear[(df_clear['first_batch_completed_date'].notna())]['applicant_id'].to_frame()\n",
    "converted_id.insert(loc=1, column='convertion', value='1')\n",
    "dedup_df = pd.merge(df_clear, converted_id,how='left',on='applicant_id')\n",
    "dedup_df['convertion'].fillna(0, inplace=True)\n",
    "dedup_df['convertion'] = pd.to_numeric(dedup_df['convertion'])\n",
    "print(dedup_df.info())\n",
    "# 数据预处理完成"
   ]
  },
  {
   "cell_type": "code",
   "execution_count": 8,
   "metadata": {},
   "outputs": [
    {
     "name": "stdout",
     "output_type": "stream",
     "text": [
      "           conversion_rate  std_deviation\n",
      "group                                    \n",
      "control           0.263446       0.440523\n",
      "treatment         0.421307       0.493816\n"
     ]
    }
   ],
   "source": [
    "# 计算转化率和方差\n",
    "conversion_rate = dedup_df.groupby('group')['convertion'].agg([np.mean, np.std])\n",
    "conversion_rate.columns = ['conversion_rate', 'std_deviation']\n",
    "print(conversion_rate)"
   ]
  },
  {
   "cell_type": "code",
   "execution_count": 9,
   "metadata": {},
   "outputs": [
    {
     "name": "stdout",
     "output_type": "stream",
     "text": [
      "-19.962758464526697 1.1612207557079474e-88\n",
      "0.25634520730867194 0.2705468403286696\n",
      "0.4100137225294781 0.43260035326325197\n"
     ]
    }
   ],
   "source": [
    "# 假设检验\n",
    "from statsmodels.stats.proportion import proportions_ztest, proportion_confint\n",
    "\n",
    "control_converted = dedup_df[dedup_df['group'] == 'control']['convertion']\n",
    "treatment_converted = dedup_df[dedup_df['group'] == 'treatment']['convertion']\n",
    "nobs = [control_converted.count(), treatment_converted.count()]\n",
    "success = [control_converted.sum() ,treatment_converted.sum()]\n",
    "z_stat, pval = proportions_ztest(success, nobs=nobs)\n",
    "(lower_con, lower_tre), (upper_con, upper_tre) = proportion_confint(success, nobs=nobs, alpha=0.1)\n",
    "print(z_stat, pval)\n",
    "print(lower_con, upper_con)\n",
    "print(lower_tre, upper_tre)\n",
    "# 可以看到，转化率均在置信区间内，p值远小于α，z远小于-1.65，故提前背调对于提高转化率是非常有效的"
   ]
  },
  {
   "cell_type": "code",
   "execution_count": 10,
   "metadata": {},
   "outputs": [
    {
     "name": "stdout",
     "output_type": "stream",
     "text": [
      "[113.87531899380241, 71.20697567691602]\n"
     ]
    }
   ],
   "source": [
    "# 验证变化是否cost effective\n",
    "avg_cost = [(i * 30)/j for (i,j) in zip(nobs, success)]\n",
    "print(avg_cost)\n",
    "# 可以看到，转换率提高的同时，转换成功的人均花费减少，是cost eccective的"
   ]
  },
  {
   "cell_type": "code",
   "execution_count": 11,
   "metadata": {},
   "outputs": [
    {
     "data": {
      "text/plain": [
       "group      channel               \n",
       "control    job-search-site           0.155616\n",
       "           shopper-referral-bonus    0.333804\n",
       "           social-media              0.313630\n",
       "           web-search-engine         0.249141\n",
       "treatment  job-search-site           0.374011\n",
       "           shopper-referral-bonus    0.490251\n",
       "           social-media              0.381464\n",
       "           web-search-engine         0.446154\n",
       "Name: convertion, dtype: float64"
      ]
     },
     "execution_count": 11,
     "metadata": {},
     "output_type": "execute_result"
    }
   ],
   "source": [
    "#根据channel计算分组转化率\n",
    "channel_conversion_rate = dedup_df.groupby(['group','channel'])['convertion'].agg(np.mean)\n",
    "channel_conversion_rate"
   ]
  },
  {
   "cell_type": "code",
   "execution_count": null,
   "metadata": {},
   "outputs": [],
   "source": []
  }
 ],
 "metadata": {
  "kernelspec": {
   "display_name": "Python 3",
   "language": "python",
   "name": "python3"
  },
  "language_info": {
   "codemirror_mode": {
    "name": "ipython",
    "version": 3
   },
   "file_extension": ".py",
   "mimetype": "text/x-python",
   "name": "python",
   "nbconvert_exporter": "python",
   "pygments_lexer": "ipython3",
   "version": "3.8.3"
  }
 },
 "nbformat": 4,
 "nbformat_minor": 4
}
